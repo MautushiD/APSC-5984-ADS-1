{
 "cells": [
  {
   "attachments": {},
   "cell_type": "markdown",
   "metadata": {},
   "source": [
    "# APSC-5984 Lab 1: Environment Setup\n",
    "\n",
    "### Due: 2023-01-23 (Monday) 23:59:59\n",
    "\n",
    "### Grading Rubric (Total 100 points)\n",
    "\n",
    "| Items | Points | Earned |\n",
    "| :--- | :----- | :----- |\n",
    "| Push the lab assignment in time | 80 | |\n",
    "| Correctly set up the environment (`miniforge` should be shown in the path) | 10 | |\n",
    "| Correctly push the lab assignment with the correct commit message: \"lab 1 submission\" | 10 | |"
   ]
  },
  {
   "attachments": {},
   "cell_type": "markdown",
   "metadata": {},
   "source": [
    "### Imports"
   ]
  },
  {
   "cell_type": "code",
   "execution_count": 1,
   "metadata": {},
   "outputs": [],
   "source": [
    "import platform"
   ]
  },
  {
   "attachments": {},
   "cell_type": "markdown",
   "metadata": {},
   "source": [
    "### Check environment variables"
   ]
  },
  {
   "cell_type": "code",
   "execution_count": 3,
   "metadata": {},
   "outputs": [],
   "source": [
    "path_conda = !which conda\n",
    "path_python = !which python\n",
    "system_info = platform.version()\n",
    "system = platform.system()\n",
    "release = platform.release()"
   ]
  },
  {
   "attachments": {},
   "cell_type": "markdown",
   "metadata": {},
   "source": [
    "### Print out the variables"
   ]
  },
  {
   "cell_type": "code",
   "execution_count": 4,
   "metadata": {},
   "outputs": [
    {
     "name": "stdout",
     "output_type": "stream",
     "text": [
      "Path to conda:  /Users/niche/miniconda3/bin/conda\n",
      "Path to python:  /Users/niche/miniconda3/envs/cvpi-env/bin/python\n",
      "System info:  Darwin Kernel Version 22.2.0: Fri Nov 11 02:06:26 PST 2022; root:xnu-8792.61.2~4/RELEASE_ARM64_T8112\n",
      "System:  Darwin\n",
      "Release:  22.2.0\n"
     ]
    }
   ],
   "source": [
    "print(\"Path to conda: \", path_conda[0])\n",
    "print(\"Path to python: \", path_python[0])\n",
    "print(\"System info: \", system_info)\n",
    "print(\"System: \", system)\n",
    "print(\"Release: \", release)"
   ]
  }
 ],
 "metadata": {
  "kernelspec": {
   "display_name": "cvpi-env",
   "language": "python",
   "name": "python3"
  },
  "language_info": {
   "codemirror_mode": {
    "name": "ipython",
    "version": 3
   },
   "file_extension": ".py",
   "mimetype": "text/x-python",
   "name": "python",
   "nbconvert_exporter": "python",
   "pygments_lexer": "ipython3",
   "version": "3.10.8"
  },
  "orig_nbformat": 4,
  "vscode": {
   "interpreter": {
    "hash": "4d186f24a3f228279ea9d23064904f44d81ac37baba18210902eef1d8debf730"
   }
  }
 },
 "nbformat": 4,
 "nbformat_minor": 2
}
