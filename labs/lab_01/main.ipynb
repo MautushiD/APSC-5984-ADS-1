{
 "cells": [
  {
   "attachments": {},
   "cell_type": "markdown",
   "metadata": {},
   "source": [
    "# Import library"
   ]
  },
  {
   "cell_type": "code",
   "execution_count": 26,
   "metadata": {},
   "outputs": [],
   "source": [
    "import platform"
   ]
  },
  {
   "attachments": {},
   "cell_type": "markdown",
   "metadata": {},
   "source": [
    "# Check environment variables"
   ]
  },
  {
   "cell_type": "code",
   "execution_count": 27,
   "metadata": {},
   "outputs": [],
   "source": [
    "path_conda = !which conda\n",
    "path_python = !which python\n",
    "system_info = platform.version()\n",
    "system = platform.system()\n",
    "release = platform.release()"
   ]
  },
  {
   "cell_type": "code",
   "execution_count": 29,
   "metadata": {},
   "outputs": [
    {
     "name": "stdout",
     "output_type": "stream",
     "text": [
      "Path to conda:  /Users/niche/miniforge3/condabin/conda\n",
      "Path to python:  /Users/niche/miniforge3/envs/transformer/bin/python\n",
      "System info:  Darwin Kernel Version 22.1.0: Sun Oct  9 20:15:09 PDT 2022; root:xnu-8792.41.9~2/RELEASE_ARM64_T6000\n",
      "System:  Darwin\n",
      "Release:  22.1.0\n"
     ]
    }
   ],
   "source": [
    "print(\"Path to conda: \", path_conda[0])\n",
    "print(\"Path to python: \", path_python[0])\n",
    "print(\"System info: \", system_info)\n",
    "print(\"System: \", system)\n",
    "print(\"Release: \", release)"
   ]
  }
 ],
 "metadata": {
  "kernelspec": {
   "display_name": "transformer",
   "language": "python",
   "name": "python3"
  },
  "language_info": {
   "codemirror_mode": {
    "name": "ipython",
    "version": 3
   },
   "file_extension": ".py",
   "mimetype": "text/x-python",
   "name": "python",
   "nbconvert_exporter": "python",
   "pygments_lexer": "ipython3",
   "version": "3.9.13"
  },
  "orig_nbformat": 4,
  "vscode": {
   "interpreter": {
    "hash": "676f9894fcd97ef2eed3052dc85fe137ae247f462f8cdeaa5614d1902863224d"
   }
  }
 },
 "nbformat": 4,
 "nbformat_minor": 2
}
