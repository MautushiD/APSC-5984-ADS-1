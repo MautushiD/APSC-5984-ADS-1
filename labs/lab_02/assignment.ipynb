{
 "cells": [
  {
   "attachments": {},
   "cell_type": "markdown",
   "metadata": {},
   "source": [
    "# APSC-5984 Lab 2: Python Basics I\n",
    "\n",
    "Due: 2023-01-30 (Monday) 23:59:59\n",
    "\n",
    "Grading Rubric (Total 100 points)\n",
    "\n",
    "| Items | Points | Earned |\n",
    "| :--- | :----- | :----- |\n",
    "| Push the assignment in time with the commit message: \"lab 2 submission\" | 70 | |\n",
    "| Task 1 | 1 | |\n",
    "| Task 2 | 1 | |\n",
    "| Task 3 | 1 | |\n",
    "| Task 4 | 5 | |\n",
    "| Task 5 | 2 | |\n",
    "| Task 6 | 2 | |\n",
    "| Task 7 | 4 | |\n",
    "| Task 8 | 4 | |\n",
    "| Task 9 | 4 | |\n",
    "| Task 10 | 6 | |\n",
    "\n",
    "When you are done with the assignment, you need to commit your changes and push them to this repository. You can do this by running the following commands in the `terminal`:\n",
    "\n",
    "```bash\n",
    "git add .\n",
    "git commit -m \"lab 2 submission\"\n",
    "git push\n",
    "```\n",
    "\n",
    "Or you can use the Source Control tab in VS Code to commit and push your changes as we did in the previous lab."
   ]
  },
  {
   "attachments": {},
   "cell_type": "markdown",
   "metadata": {},
   "source": [
    "### Task 1 -> [1. Variables](readme.md#1-variables)\n",
    "\n",
    "Create a variable `n_apples` and assign it the value of 10. And print the value of `n_apples`."
   ]
  },
  {
   "cell_type": "code",
   "execution_count": 1,
   "metadata": {},
   "outputs": [],
   "source": [
    "# your code here\n",
    "n_apples = 10\n",
    "pass"
   ]
  },
  {
   "attachments": {},
   "cell_type": "markdown",
   "metadata": {},
   "source": [
    "### Task 2 -> [2. Data Types](readme.md#2-data-types)\n",
    "\n",
    "Create a variable `favorite_quote` and assign it the value of your favorite quote. And print the type of `favorite_quote`."
   ]
  },
  {
   "cell_type": "code",
   "execution_count": 3,
   "metadata": {},
   "outputs": [
    {
     "name": "stdout",
     "output_type": "stream",
     "text": [
      "The world is full of nice people, if you can't find one be the one.\n"
     ]
    }
   ],
   "source": [
    "# your code here\n",
    "favorite_quote = \"The world is full of nice people, if you can't find one be the one.\"\n",
    "print(favorite_quote)\n",
    "pass"
   ]
  },
  {
   "attachments": {},
   "cell_type": "markdown",
   "metadata": {},
   "source": [
    "### Task 3 -> [2. Data Types](readme.md#2-data-types)\n",
    "Assign a float value 6.78 to a variable `var_float`. And convert `var_float` to an integer and print the result."
   ]
  },
  {
   "cell_type": "code",
   "execution_count": 4,
   "metadata": {},
   "outputs": [
    {
     "name": "stdout",
     "output_type": "stream",
     "text": [
      "6\n"
     ]
    }
   ],
   "source": [
    "# your code here\n",
    "var_float = 6.78\n",
    "print(int(var_float))\n",
    "pass"
   ]
  },
  {
   "attachments": {},
   "cell_type": "markdown",
   "metadata": {},
   "source": [
    "### Task 4 -> [3.1 Arithmetic Operators](readme.md#31-arithmetic-operators)\n",
    "Use Python operators to solve the following mathematical questions. Assume `x = 111111`:\n",
    "\n",
    "1. What is the result of muptiplying `x` and 11?\n",
    "2. What is the result of muptiplying `x` and 1111?\n",
    "3. What is the 2nd power of `x`?\n",
    "4. What is the result of subtracting 123456 from `x`?\n",
    "5. What is the remainder of `x` divided by `x`?\n",
    "\n",
    "You can store the results as variables `ans_1`, `ans_2`, `ans_3`, `ans_4`, and `ans_5` respectively. And print them out."
   ]
  },
  {
   "cell_type": "code",
   "execution_count": 7,
   "metadata": {},
   "outputs": [
    {
     "name": "stdout",
     "output_type": "stream",
     "text": [
      "ans_1 =  1222221\n",
      "ans_2 =  123444321\n",
      "ans_3 =  12345654321\n",
      "ans_4 =  -12345\n",
      "ans_5 =  0\n"
     ]
    }
   ],
   "source": [
    "x = 111111\n",
    "# your code here\n",
    "ans_1 = x * 11\n",
    "ans_2 = x * 1111\n",
    "ans_3 = x ** 2\n",
    "ans_4 = x - 123456\n",
    "ans_5 = x % x\n",
    "\n",
    "print('ans_1 = ',ans_1)\n",
    "print('ans_2 = ',ans_2)\n",
    "print('ans_3 = ',ans_3)\n",
    "print('ans_4 = ',ans_4)\n",
    "print('ans_5 = ',ans_5)\n",
    "pass"
   ]
  },
  {
   "attachments": {},
   "cell_type": "markdown",
   "metadata": {},
   "source": [
    "### Task 5 -> [3.2 String Operators](readme.md#32-string-operators)\n",
    "Use Python string operators to print a message: `\"hello world hello world hello world \"`. The variables `str_1` and `str_2` are already defined in the code."
   ]
  },
  {
   "cell_type": "code",
   "execution_count": 8,
   "metadata": {},
   "outputs": [
    {
     "name": "stdout",
     "output_type": "stream",
     "text": [
      "hello world hello world hello world \n"
     ]
    }
   ],
   "source": [
    "str_1 = \"hello \"\n",
    "str_2 = \"world \"\n",
    "# your code here\n",
    "print((str_1 + str_2)*3)\n",
    "pass"
   ]
  },
  {
   "attachments": {},
   "cell_type": "markdown",
   "metadata": {},
   "source": [
    "### Task 6 -> [3.2 String Operators](readme.md#32-string-operators)\n",
    "Combine a string variable `str_1` and an integer variable `int_1` to form a new string. The new string should be `\"hello 2023\"`. Hint: you can use `str()` function to convert an integer to a string."
   ]
  },
  {
   "cell_type": "code",
   "execution_count": 9,
   "metadata": {},
   "outputs": [
    {
     "name": "stdout",
     "output_type": "stream",
     "text": [
      "hello 2023\n"
     ]
    }
   ],
   "source": [
    "# your code here\n",
    "str_1 = \"hello \"\n",
    "int_1 = 2023\n",
    "print(str_1 + str(int_1))\n",
    "pass"
   ]
  },
  {
   "attachments": {},
   "cell_type": "markdown",
   "metadata": {},
   "source": [
    "### Task 7 -> [3.3 Comparison Operators](readme.md#33-comparison-operators)\n",
    "\n",
    "1. Assign a variable `int_1` with the value of multiplication of 2023 and 204, and assign a variable `int_2` with the value of multiplication of 2024 and 203. Check if `int_1` is greater than `int_2` and print the result.\n",
    "2. Assign a variable str_1 with the value of `\"2023-01-30\"`, and assign a variable str_2 with the value of `\"2023-01-31\"`. Check if `str_1` is greater than `str_2` and print the result."
   ]
  },
  {
   "cell_type": "code",
   "execution_count": 16,
   "metadata": {},
   "outputs": [
    {
     "name": "stdout",
     "output_type": "stream",
     "text": [
      "int_1 is greater and the value is 412692\n",
      "2023-01-31 is greater than 2023-01-30\n"
     ]
    }
   ],
   "source": [
    "# your code here\n",
    "int_1 = 2023 * 204\n",
    "int_2 = 2024 * 203\n",
    "if (int_1 > int_2) :\n",
    "    print(\"int_1 is greater and the value is\", int_1)\n",
    "elif(int_2 > int_1) :\n",
    "    print(\"int_2 is greater and the value is\", int_2)   \n",
    "else:\n",
    "    print('Both of them are equal') \n",
    "\n",
    "str_1 = \"2023-01-30\"\n",
    "str_2 = \"2023-01-31\"\n",
    "if (str_1 > str_2)==True :\n",
    "    print(str_1+\" is greater than \"+str_2)\n",
    "elif (str_2 >  str_1)==True :\n",
    "    print(str_2+\" is greater than \"+str_1) \n",
    "else:\n",
    "    print (\"Both of them are equal\")\n",
    "pass"
   ]
  },
  {
   "attachments": {},
   "cell_type": "markdown",
   "metadata": {},
   "source": [
    "### Task 8 -> [3.4 Logical Operators](readme.md#34-logical-operators)\n",
    "\n",
    "Examine whether BOTH the following two statements are true:\n",
    "\n",
    "1. statement 1: `2 ** 10` is greater than `10 ** 2`\n",
    "2. statement 2: `\"I have a pen\"` is less than `\"I have an apple\"` based on the ASCII code\n",
    "\n",
    "You have to store each statement as a variable `bool_1` and `bool_2` respectively. And store the examination result as a variable `result`. And print the result."
   ]
  },
  {
   "cell_type": "code",
   "execution_count": 18,
   "metadata": {},
   "outputs": [
    {
     "name": "stdout",
     "output_type": "stream",
     "text": [
      "Both statements are True\n"
     ]
    }
   ],
   "source": [
    "# your code here\n",
    "bool_1 = \"2 ** 10 is greater than 10 ** 2\"\n",
    "bool_2 = \"I have a pen is less than I have an apple based on the ASCII code\"\n",
    "\n",
    "if (((2**10) > (10**2)) and ((\"I have a pen\")<(\"I have an apple\")))==True:\n",
    "    result= 'Both statements are True'\n",
    "else:\n",
    "    result ='Both statments are not True'\n",
    "\n",
    "print(result)\n",
    "pass"
   ]
  },
  {
   "attachments": {},
   "cell_type": "markdown",
   "metadata": {},
   "source": [
    "### Task 9 -> [4. Conditional Statements](readme.md#4-conditional-statements)\n",
    "\n",
    "1. Assign a variable `int_1` with the value of 2022. If `int_1` is greater than 2023, print `\"int_1 is greater than 2023\"`. Otherwise, print `\"int_1 is less than or equal to 2023\"`.\n",
    "2. Assign another variable `int_2` with the value of 2024. If both `int_1` and `int_2` are greater than 2000, print `\"Hey, it's the 21st century!\"`. Otherwise, print `\"It's not the 21st century yet.\"`."
   ]
  },
  {
   "cell_type": "code",
   "execution_count": 20,
   "metadata": {},
   "outputs": [
    {
     "name": "stdout",
     "output_type": "stream",
     "text": [
      "int_1 is less than or equal to 2023\n",
      "Hey, it's the 21st century!\n"
     ]
    }
   ],
   "source": [
    "# your code here\n",
    "int_1 = 2022\n",
    "int_2 = 2024\n",
    "if (int_1 > 2023):\n",
    "    print(\"int_1 is greater than 2023\")\n",
    "else:\n",
    "    print(\"int_1 is less than or equal to 2023\")\n",
    "\n",
    "\n",
    "if (int_1 and int_2 > 2000):\n",
    "    print(\"Hey, it's the 21st century!\")\n",
    "else:\n",
    "    print(\"It's not the 21st century\")\n",
    "\n",
    "pass"
   ]
  },
  {
   "attachments": {},
   "cell_type": "markdown",
   "metadata": {},
   "source": [
    "### Task 10 -> [4. Conditional Statements](readme.md#4-conditional-statements)\n",
    "\n",
    "There is a randomly generated integer variable `rdm_int` in the code. The value of `rdm_int` is between 0 and 100. Write a conditional statement to print the following messages based on the value of `rdm_int`:\n",
    "\n",
    "| Value of `rdm_int` | Message |\n",
    "| :--- | :----- |\n",
    "| 0 <= `rdm_int` < 20 | `\"It's between 0 and 20.\"` |\n",
    "| 20 <= `rdm_int` < 40 | `\"It's between 20 and 40.\"` |\n",
    "| 40 <= `rdm_int` < 60 | `\"It's between 40 and 60.\"` |\n",
    "| 60 <= `rdm_int` < 80 | `\"It's between 60 and 80.\"` |\n",
    "| 80 <= `rdm_int` <= 100 | `\"It's between 80 and 100.\"` |"
   ]
  },
  {
   "cell_type": "code",
   "execution_count": 21,
   "metadata": {},
   "outputs": [
    {
     "name": "stdout",
     "output_type": "stream",
     "text": [
      "It's between 40 and 60\n"
     ]
    }
   ],
   "source": [
    "import numpy as np\n",
    "rdm_int = np.random.randint(0, 100, 1)[0]\n",
    "# your code here\n",
    "if (0 <= rdm_int < 20):\n",
    "    print(\"It's between 0 and 20\")\n",
    "if (20 <= rdm_int < 40):\n",
    "    print(\"It's between 20 and 40\")\n",
    "if (40 <= rdm_int < 60):\n",
    "    print(\"It's between 40 and 60\")\n",
    "if (60 <= rdm_int < 80):\n",
    "    print(\"It's between 60 and 80\")\n",
    "if (80 <= rdm_int < 100):\n",
    "    print(\"It's between 80 and 100\")\n",
    "pass"
   ]
  },
  {
   "cell_type": "code",
   "execution_count": null,
   "metadata": {},
   "outputs": [],
   "source": []
  }
 ],
 "metadata": {
  "kernelspec": {
   "display_name": "cvpi-env",
   "language": "python",
   "name": "python3"
  },
  "language_info": {
   "codemirror_mode": {
    "name": "ipython",
    "version": 3
   },
   "file_extension": ".py",
   "mimetype": "text/x-python",
   "name": "python",
   "nbconvert_exporter": "python",
   "pygments_lexer": "ipython3",
   "version": "3.10.8"
  },
  "orig_nbformat": 4,
  "vscode": {
   "interpreter": {
    "hash": "4d186f24a3f228279ea9d23064904f44d81ac37baba18210902eef1d8debf730"
   }
  }
 },
 "nbformat": 4,
 "nbformat_minor": 2
}
