{
 "cells": [
  {
   "attachments": {},
   "cell_type": "markdown",
   "metadata": {},
   "source": [
    "# APSC-5984 Lab 2: Python Basics I\n",
    "\n",
    "### Due: 2023-01-30 (Monday) 23:59:59\n",
    "\n",
    "### Grading Rubric (Total 100 points)\n",
    "\n",
    "| Items | Points |\n",
    "| :--- | :----- |\n",
    "| Push the assignment on time with the commit message: \"lab 2 submission\" | 80 |\n",
    "| Tasks 1~20 are completed correctly | 1 point each * 20 |\n",
    "\n",
    "\n",
    "\n",
    "## 2. Submission\n",
    "\n",
    "When you are done with the assignment, you need to commit your changes and push them to this repository. You can do this by running the following commands in the `terminal`:\n",
    "\n",
    "```bash\n",
    "git add .\n",
    "git commit -m \"lab 2 submission\"\n",
    "git push\n",
    "```\n",
    "\n",
    "Or you can use the Source Control tab in VS Code to commit and push your changes as we did in the previous lab."
   ]
  },
  {
   "attachments": {},
   "cell_type": "markdown",
   "metadata": {},
   "source": [
    "### Task 1\n",
    "Create a variable `n_apples` and assign it the value of 10. And print the value of `n_apples`."
   ]
  },
  {
   "cell_type": "code",
   "execution_count": 40,
   "metadata": {},
   "outputs": [],
   "source": [
    "# your code here\n",
    "pass"
   ]
  },
  {
   "attachments": {},
   "cell_type": "markdown",
   "metadata": {},
   "source": [
    "### Task 2\n",
    "Create a variable `favorite_quote` and assign it the value of your favorite quote. And print the type of `favorite_quote`."
   ]
  },
  {
   "cell_type": "code",
   "execution_count": 41,
   "metadata": {},
   "outputs": [],
   "source": [
    "# your code here\n",
    "favorite_quote = None\n",
    "pass"
   ]
  },
  {
   "attachments": {},
   "cell_type": "markdown",
   "metadata": {},
   "source": [
    "### Task 3\n",
    "Assign a float value 6.78 to a variable `var_float`. And convert `var_float` to an integer and print the result."
   ]
  },
  {
   "cell_type": "code",
   "execution_count": 42,
   "metadata": {},
   "outputs": [],
   "source": [
    "# your code here\n",
    "var_float = None\n",
    "pass"
   ]
  },
  {
   "attachments": {},
   "cell_type": "markdown",
   "metadata": {},
   "source": [
    "## 3. Operators\n",
    "\n",
    "### 3.1 Arithmetic Operators\n",
    "\n",
    "In Python, you can use arithmetic operators to perform arithmetic operations. For example, you can use the `+` operator to add two numbers, and use the `-` operator to subtract two numbers. We use `a = 7` and `b = 4` as examples in the following table to illustrate the usage of arithmetic operators.\n",
    "\n",
    "| Operator | Description | Example | Result |\n",
    "| :--- | :--- | :--- | :--- |\n",
    "| `+` | Addition | `a + b` | `11` |\n",
    "| `-` | Subtraction | `a - b` | `3` |\n",
    "| `*` | Multiplication | `a * b` | `28` |\n",
    "| `**` | Exponentiation | `a ** b` | `2401` |\n",
    "| `/` | Division | `a / b` | `1.75` |\n",
    "| `//` | Floor division | `a // b` | `1` |\n",
    "| `%` | Modulus | `a % b` | `3` |"
   ]
  },
  {
   "attachments": {},
   "cell_type": "markdown",
   "metadata": {},
   "source": [
    "### Task 4\n",
    "Use Python operators to solve the following mathematical questions. Assume `x = 111111`:\n",
    "\n",
    "1. What is the multiplication of `x` and 11?\n",
    "2. What is the multiplication of `x` and 1111?\n",
    "3. What is the 2nd power of `x`?\n",
    "4. What is the subtraction of `x` and 123456?\n",
    "5. What is the remainder of `x` divided by `x`?\n",
    "\n",
    "You can store the results as variables `ans_1`, `ans_2`, `ans_3`, `ans_4`, and `ans_5` respectively. And print them out."
   ]
  },
  {
   "cell_type": "code",
   "execution_count": 60,
   "metadata": {},
   "outputs": [],
   "source": [
    "# your code here\n",
    "ans_1 = None\n",
    "ans_2 = None\n",
    "ans_3 = None\n",
    "ans_4 = None\n",
    "ans_5 = None\n",
    "pass"
   ]
  },
  {
   "attachments": {},
   "cell_type": "markdown",
   "metadata": {},
   "source": [
    "### 3.2 String Operators\n",
    "\n",
    "You can also use operators to perform operations on strings. For example, you can use the `+` operator to concatenate two strings, and use the `*` operator to repeat a string. We use `a = \"hello\"` and `b = \"world\"` as examples in the following table to illustrate the usage of string operators.\n",
    "\n",
    "| Operator | Description | Example | Result |\n",
    "| :--- | :--- | :--- | :--- |\n",
    "| `+` | Concatenation | `a + b` | `\"helloworld\"` |\n",
    "| `*` | Repetition | `a * 3` | `\"hellohellohello\"` |"
   ]
  },
  {
   "attachments": {},
   "cell_type": "markdown",
   "metadata": {},
   "source": [
    "### Task 5\n",
    "Use Python string operators to print a message: `\"hello world hello world hello world \"`. The variables `str_1` and `str_2` are already defined for you."
   ]
  },
  {
   "cell_type": "code",
   "execution_count": 46,
   "metadata": {},
   "outputs": [],
   "source": [
    "str_1 = \"hello \"\n",
    "str_2 = \"world \"\n",
    "# your code here\n",
    "pass"
   ]
  },
  {
   "attachments": {},
   "cell_type": "markdown",
   "metadata": {},
   "source": [
    "### Task 6\n",
    "Combine a string variable `str_1` and an integer variable `int_1` to form a new string. The new string should be `\"hello 2023\"`. Hint: you can use `str()` function to convert an integer to a string."
   ]
  },
  {
   "cell_type": "code",
   "execution_count": 47,
   "metadata": {},
   "outputs": [],
   "source": [
    "str_1 = \"hello \"\n",
    "int_1 = 2023\n",
    "# your code here\n",
    "pass"
   ]
  },
  {
   "attachments": {},
   "cell_type": "markdown",
   "metadata": {},
   "source": [
    "### 3.3 Comparison Operators\n",
    "\n",
    "You can use comparison operators to compare two values. For example, you can use the `==` operator to check if two values are equal. We use `a = 7` and `b = 4` as examples in the following table to illustrate the usage of comparison operators.\n",
    "\n",
    "| Operator | Description | Example | Result |\n",
    "| :--- | :--- | :--- | :--- |\n",
    "| `==` | Equal to | `a == b` | `False` |\n",
    "| `!=` | Not equal to | `a != b` | `True` |\n",
    "| `>` | Greater than | `a > b` | `True` |\n",
    "| `<` | Less than | `a < b` | `False` |\n",
    "| `>=` | Greater than or equal to | `a >= b` | `True` |\n",
    "| `<=` | Less than or equal to | `a <= b` | `False` |\n",
    "\n",
    "Similar logic applies to strings. For example, you can use the `==` operator to check if two strings are equal. We use `a = \"hello\"` and `b = \"world\"` as examples in the following table to illustrate the usage of comparison operators. We are also able to use the `>` and `<` operators to compare two strings. The comparison is based on the ASCII table and the alphabetical order of the strings. For example, `\"hello\"` is smaller than `\"world\"` because the first letter of `\"hello\"` is `h` (ASCII code 104) is smaller than the first letter of `\"world\"` is `w` (ASCII code 119).\n",
    "\n",
    "| Operator | Description | Example | Result |\n",
    "| :--- | :--- | :--- | :--- |\n",
    "| `==` | Equal to | `a == b` | `False` |\n",
    "| `!=` | Not equal to | `a != b` | `True` |\n",
    "| `>` | Greater than | `a > b` | `False` |\n",
    "| `<` | Less than | `a < b` | `True` |\n",
    "\n",
    "ASCII Table from Wikipedia:\n",
    "![ASCII Table](https://upload.wikimedia.org/wikipedia/commons/thumb/1/1b/ASCII-Table-wide.svg/1200px-ASCII-Table-wide.svg.png)"
   ]
  },
  {
   "attachments": {},
   "cell_type": "markdown",
   "metadata": {},
   "source": [
    "### Task 7\n",
    "\n",
    "1. Assign a variable `int_1` with the value of multiplication of 2023 and 204, and assign a variable `int_2` with the value of multiplication of 2024 and 203. Check if `int_1` is greater than `int_2` and print the result.\n",
    "2. "
   ]
  },
  {
   "cell_type": "code",
   "execution_count": 59,
   "metadata": {},
   "outputs": [
    {
     "data": {
      "text/plain": [
       "False"
      ]
     },
     "execution_count": 59,
     "metadata": {},
     "output_type": "execute_result"
    }
   ],
   "source": []
  },
  {
   "attachments": {},
   "cell_type": "markdown",
   "metadata": {},
   "source": [
    "### 3.4. Logical Operators\n",
    "\n",
    "You can use logical operators to perform logical operations. For example, you can use the `and` operator to check if two conditions are both `True`. We use `a = True` and `b = False` as examples in the following table to illustrate the usage of logical operators. It is noted that some operators are interchangeable, e.g., `and` and `&&`.\n",
    "\n",
    "| Operator | Description | Example | Result |\n",
    "| :--- | :--- | :--- | :--- |\n",
    "| `and` | Logical AND | `a and b` | `False` |\n",
    "| && | Logical AND | `a && b` | `False` |\n",
    "| `or` | Logical OR | `a or b` | `True` |\n",
    "| \\|\\| | Logical OR | `a \\|\\| b` | `True` |\n",
    "| `not` | Logical NOT | `not a` | `False` |\n",
    "| ! | Logical NOT | `!a` | `False` |\n",
    "\n"
   ]
  }
 ],
 "metadata": {
  "kernelspec": {
   "display_name": "tf",
   "language": "python",
   "name": "python3"
  },
  "language_info": {
   "codemirror_mode": {
    "name": "ipython",
    "version": 3
   },
   "file_extension": ".py",
   "mimetype": "text/x-python",
   "name": "python",
   "nbconvert_exporter": "python",
   "pygments_lexer": "ipython3",
   "version": "3.9.13"
  },
  "orig_nbformat": 4,
  "vscode": {
   "interpreter": {
    "hash": "e280c9e8b2a1d33bbe58b6976a0585f8ea2c0c6c7877fc74ad974a82054a5488"
   }
  }
 },
 "nbformat": 4,
 "nbformat_minor": 2
}
